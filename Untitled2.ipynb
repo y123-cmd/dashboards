{
 "cells": [
  {
   "cell_type": "code",
   "execution_count": 11,
   "id": "d89e819a-5453-40d1-bf81-7457e237c81a",
   "metadata": {},
   "outputs": [],
   "source": [
    "\n",
    "inventory = {}\n",
    "\n",
    "def add_liquor(name, quantity, price):\n",
    "    if name in inventory:\n",
    "        inventory[name]['quantity'] += quantity\n",
    "    else:\n",
    "        inventory[name] = {'quantity': quantity, 'price': price}\n",
    "    print(f\"{quantity} units of {name} added to inventory.\")\n",
    "\n",
    "def view_inventory():\n",
    "    if inventory:\n",
    "        print(\"Current Inventory:\")\n",
    "        for name, details in inventory.items():\n",
    "            print(f\"{name}: {details['quantity']} units, Price: {details['price']}\")\n",
    "    else:\n",
    "        print(\"The inventory is currently empty.\")\n",
    "        \n",
    "def update_price(name, new_price):\n",
    "    if name in inventory:\n",
    "        inventory[name]['price'] = new_price\n",
    "        print(f\"The price of {name} has been updated to {new_price}.\")\n",
    "    else:\n",
    "        print(f\"{name} is not in the inventory.\")\n"
   ]
  },
  {
   "cell_type": "code",
   "execution_count": 12,
   "id": "fc4bc2a7-e94e-4acd-aa16-bf4522438690",
   "metadata": {},
   "outputs": [
    {
     "name": "stdout",
     "output_type": "stream",
     "text": [
      "5 units of Best Whiskey added to inventory.\n",
      "1 units of Gk added to inventory.\n",
      "6 units of Whitecap added to inventory.\n",
      "2 units of Chromegin 250ml added to inventory.\n",
      "1 units of Hunters choice 250ml added to inventory.\n",
      "4 units of Best gin 250ml added to inventory.\n",
      "1 units of Gilbeys 350ml added to inventory.\n",
      "4 units of Guarana added to inventory.\n",
      "2 units of Captain added to inventory.\n",
      "5 units of Lemonade added to inventory.\n",
      "13 units of Soda kubwa added to inventory.\n",
      "9 units of Maji kubwa added to inventory.\n",
      "6 units of County added to inventory.\n",
      "2 units of Best gin mzinga added to inventory.\n",
      "1 units of Konyagi added to inventory.\n",
      "3 units of Predator added to inventory.\n",
      "5 units of Kc pineapple added to inventory.\n"
     ]
    }
   ],
   "source": [
    "add_liquor(\"Best Whiskey\", 5, 2700)\n",
    "add_liquor(\"Gk\", 1, 1500)\n",
    "add_liquor(\"Whitecap\", 6, 120)\n",
    "add_liquor(\"Chromegin 250ml\", 2, 250)\n",
    "add_liquor(\"Hunters choice 250ml\", 1, 200)\n",
    "add_liquor(\"Best gin 250ml\", 4, 220)\n",
    "add_liquor(\"Gilbeys 350ml\", 1, 350)\n",
    "add_liquor(\"Guarana\", 4, 130)\n",
    "add_liquor(\"Captain\", 2, 300)\n",
    "add_liquor(\"Lemonade\", 5, 50)\n",
    "add_liquor(\"Soda kubwa\", 13, 60)\n",
    "add_liquor(\"Maji kubwa\", 9, 70)\n",
    "add_liquor(\"County\", 6, 150)\n",
    "add_liquor(\"Best gin mzinga\", 2, 2000)\n",
    "add_liquor(\"Konyagi\", 1, 500)\n",
    "add_liquor(\"Predator\", 3, 110)\n",
    "add_liquor(\"Kc pineapple\", 5, 250)\n"
   ]
  },
  {
   "cell_type": "code",
   "execution_count": 13,
   "id": "b852ebf8-dd17-474f-a864-d8b993116cc7",
   "metadata": {},
   "outputs": [
    {
     "name": "stdout",
     "output_type": "stream",
     "text": [
      "Current Inventory:\n",
      "Best Whiskey: 5 units, Price: 2700\n",
      "Gk: 1 units, Price: 1500\n",
      "Whitecap: 6 units, Price: 120\n",
      "Chromegin 250ml: 2 units, Price: 250\n",
      "Hunters choice 250ml: 1 units, Price: 200\n",
      "Best gin 250ml: 4 units, Price: 220\n",
      "Gilbeys 350ml: 1 units, Price: 350\n",
      "Guarana: 4 units, Price: 130\n",
      "Captain: 2 units, Price: 300\n",
      "Lemonade: 5 units, Price: 50\n",
      "Soda kubwa: 13 units, Price: 60\n",
      "Maji kubwa: 9 units, Price: 70\n",
      "County: 6 units, Price: 150\n",
      "Best gin mzinga: 2 units, Price: 2000\n",
      "Konyagi: 1 units, Price: 500\n",
      "Predator: 3 units, Price: 110\n",
      "Kc pineapple: 5 units, Price: 250\n"
     ]
    }
   ],
   "source": [
    "view_inventory()"
   ]
  },
  {
   "cell_type": "code",
   "execution_count": 14,
   "id": "8838f3d3-8c8d-4ea3-912e-611cf9341bba",
   "metadata": {},
   "outputs": [],
   "source": [
    "\n",
    "def sell_liquor(name, quantity):\n",
    "    if name in inventory and inventory[name]['quantity'] >= quantity:\n",
    "        inventory[name]['quantity'] -= quantity\n",
    "        print(f\"{quantity} units of {name} sold.\")\n",
    "        if inventory[name]['quantity'] == 0:\n",
    "            print(f\"{name} is out of stock!\")\n",
    "    else:\n",
    "        print(f\"Not enough stock of {name} or {name} not found in inventory.\")\n"
   ]
  },
  {
   "cell_type": "code",
   "execution_count": 16,
   "id": "e75ba747-f246-41fd-847e-326bb49a7e64",
   "metadata": {},
   "outputs": [
    {
     "name": "stdout",
     "output_type": "stream",
     "text": [
      "3 units of Whitecap sold.\n",
      "Whitecap is out of stock!\n",
      "Not enough stock of Maji kubwa or Maji kubwa not found in inventory.\n",
      "3 units of Kc pineapple sold.\n",
      "Current Inventory:\n",
      "Best Whiskey: 5 units, Price: 2700\n",
      "Gk: 1 units, Price: 1500\n",
      "Whitecap: 0 units, Price: 120\n",
      "Chromegin 250ml: 2 units, Price: 250\n",
      "Hunters choice 250ml: 1 units, Price: 200\n",
      "Best gin 250ml: 4 units, Price: 220\n",
      "Gilbeys 350ml: 1 units, Price: 350\n",
      "Guarana: 4 units, Price: 130\n",
      "Captain: 2 units, Price: 300\n",
      "Lemonade: 5 units, Price: 50\n",
      "Soda kubwa: 13 units, Price: 60\n",
      "Maji kubwa: 4 units, Price: 70\n",
      "County: 6 units, Price: 150\n",
      "Best gin mzinga: 2 units, Price: 2000\n",
      "Konyagi: 1 units, Price: 500\n",
      "Predator: 3 units, Price: 110\n",
      "Kc pineapple: 2 units, Price: 250\n"
     ]
    }
   ],
   "source": [
    "\n",
    "sell_liquor(\"Whitecap\", 3)\n",
    "sell_liquor(\"Maji kubwa\", 5)\n",
    "sell_liquor(\"Kc pineapple\", 3)\n",
    "\n",
    "view_inventory()\n"
   ]
  },
  {
   "cell_type": "code",
   "execution_count": 17,
   "id": "c290452d-c115-485c-9a7b-0d1cd755bf9c",
   "metadata": {},
   "outputs": [],
   "source": [
    "\n",
    "total_sales = 0\n",
    "\n",
    "def sell_liquor_with_revenue(name, quantity):\n",
    "    global total_sales\n",
    "    if name in inventory and inventory[name]['quantity'] >= quantity:\n",
    "        inventory[name]['quantity'] -= quantity\n",
    "        revenue = quantity * inventory[name]['price']\n",
    "        total_sales += revenue\n",
    "        print(f\"{quantity} units of {name} sold. Revenue: {revenue}\")\n",
    "        if inventory[name]['quantity'] == 0:\n",
    "            print(f\"{name} is out of stock!\")\n",
    "    else:\n",
    "        print(f\"Not enough stock of {name} or {name} not found in inventory.\")\n",
    "\n",
    "def view_total_sales():\n",
    "    print(f\"Total Sales Revenue: {total_sales}\")\n"
   ]
  },
  {
   "cell_type": "code",
   "execution_count": 18,
   "id": "fde3d8a2-5fa3-4a2d-a20c-5f560c133e3a",
   "metadata": {},
   "outputs": [
    {
     "name": "stdout",
     "output_type": "stream",
     "text": [
      "2 units of Guarana sold. Revenue: 260\n",
      "3 units of Lemonade sold. Revenue: 150\n",
      "Total Sales Revenue: 410\n"
     ]
    }
   ],
   "source": [
    "\n",
    "sell_liquor_with_revenue(\"Guarana\", 2)\n",
    "sell_liquor_with_revenue(\"Lemonade\", 3)\n",
    "\n",
    "\n",
    "view_total_sales()\n"
   ]
  },
  {
   "cell_type": "code",
   "execution_count": 19,
   "id": "e3ce95e0-be68-4c88-9219-4af944ce20cc",
   "metadata": {},
   "outputs": [
    {
     "name": "stdout",
     "output_type": "stream",
     "text": [
      "/home/bryan\n"
     ]
    }
   ],
   "source": [
    "import os\n",
    "print(os.getcwd())\n"
   ]
  },
  {
   "cell_type": "code",
   "execution_count": 21,
   "id": "8ee946ee-fb8b-4285-a470-9af81a6fcba7",
   "metadata": {},
   "outputs": [
    {
     "name": "stdout",
     "output_type": "stream",
     "text": [
      " 0-iam_betty.save\n",
      " admin\n",
      " alx_be_python\n",
      " alx_be_shell\n",
      " anaconda3\n",
      " app.py.save\n",
      " arithmetic_operations_project\n",
      " basics\n",
      "'bryan@bryan-HP:~$'\n",
      " calculator.py\n",
      " code\n",
      " crud_project\n",
      " db.json\n",
      " Desktop\n",
      " Development\n",
      " dictionary.py\n",
      " Documents\n",
      " Done.\n",
      " Downloads\n",
      " examples.desktop\n",
      " favourite.py\n",
      " flask\n",
      " fruits.py\n",
      " functions\n",
      " funtions\n",
      " GithubCloneProject\n",
      " google-chrome-stable_current_amd64.deb\n",
      " guess_the_number.py\n",
      " hello_world.rb\n",
      " hotel-website\n",
      " IdeaProjects\n",
      " ivy-portfolio\n",
      " june\n",
      " jusper\n",
      " jusy\n",
      " LocalRepoProject\n",
      " main.py\n",
      " mongodb-compass_1.33.0_amd64.deb\n",
      " Music\n",
      " my-git-project\n",
      " my-otp-backend\n",
      " node_modules\n",
      " os\n",
      " P2.jpeg\n",
      " package.json\n",
      " package-lock.json\n",
      " payslip_150.jpeg\n",
      " payslip_30.jpeg\n",
      " pets2.jpeg\n",
      " pets_database.db\n",
      " phase-4-password-protection-lab\n",
      " Pictures\n",
      "\"PlayOnLinux's virtual drives\"\n",
      " portfolio\n",
      " Postman\n",
      "'Postman Agent'\n",
      " Projects\n",
      " Public\n",
      " __pycache__\n",
      " PycharmProjects\n",
      " R\n",
      " right_triangle.py\n",
      "'Screenshot from 2024-06-15 21-26-04.pdf'\n",
      " scrimba3\n",
      " scrimba-app\n",
      " scripts\n",
      " set.py\n",
      " snap\n",
      " tailwind.config.js\n",
      " teachers\n",
      " Templates\n",
      " Test\n",
      " testEmail.js\n",
      " test.py\n",
      " The\n",
      " todo-app\n",
      " todo-list-app\n",
      "'udo systemctl enable mongod'\n",
      "'udo systemctl restart mariadb'\n",
      " Untitled1.ipynb\n",
      " Untitled2.ipynb\n",
      " Untitled.ipynb\n",
      " user_space_report.txt\n",
      " venv\n",
      " Videos\n",
      "'VirtualBox VMs'\n",
      " workspace\n",
      " yvonne\n",
      "'yvonne potolio'\n",
      " yvonne_project\n"
     ]
    }
   ],
   "source": [
    "!ls"
   ]
  },
  {
   "cell_type": "code",
   "execution_count": null,
   "id": "c3469855-1d3b-47f6-8321-8b4813d1ff3c",
   "metadata": {},
   "outputs": [],
   "source": []
  }
 ],
 "metadata": {
  "kernelspec": {
   "display_name": "Python 3 (ipykernel)",
   "language": "python",
   "name": "python3"
  },
  "language_info": {
   "codemirror_mode": {
    "name": "ipython",
    "version": 3
   },
   "file_extension": ".py",
   "mimetype": "text/x-python",
   "name": "python",
   "nbconvert_exporter": "python",
   "pygments_lexer": "ipython3",
   "version": "3.9.12"
  }
 },
 "nbformat": 4,
 "nbformat_minor": 5
}
